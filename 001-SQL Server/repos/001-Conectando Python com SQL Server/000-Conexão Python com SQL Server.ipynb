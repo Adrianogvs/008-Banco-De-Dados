{
 "cells": [
  {
   "cell_type": "markdown",
   "id": "dbd7b9c5",
   "metadata": {},
   "source": [
    "# Conexão com o Banco de Dados SQL Server"
   ]
  },
  {
   "cell_type": "code",
   "execution_count": 1,
   "id": "c71724e4",
   "metadata": {},
   "outputs": [],
   "source": [
    "#Conectando o Python o banco de dados SQL Server\n",
    "#Importando o a biblioteca pyidbc\n",
    "\n",
    "import pyodbc"
   ]
  },
  {
   "cell_type": "code",
   "execution_count": 2,
   "id": "84193656",
   "metadata": {},
   "outputs": [],
   "source": [
    "dados_conexao = (\n",
    "    \"Driver={SQL Server};\"\n",
    "    \"Server=AGVS-001;\"\n",
    "    \"Database=Northwind;\"\n",
    ")"
   ]
  },
  {
   "cell_type": "code",
   "execution_count": 3,
   "id": "07593c1b",
   "metadata": {},
   "outputs": [
    {
     "name": "stdout",
     "output_type": "stream",
     "text": [
      "Conexão Bem Sucedida\n"
     ]
    }
   ],
   "source": [
    "conexao = pyodbc.connect(dados_conexao)\n",
    "print(\"Conexão Bem Sucedida\")"
   ]
  },
  {
   "cell_type": "code",
   "execution_count": 4,
   "id": "06faa0a0",
   "metadata": {},
   "outputs": [],
   "source": [
    "cursor = conexao.cursor()"
   ]
  },
  {
   "cell_type": "code",
   "execution_count": 5,
   "id": "62bae964",
   "metadata": {},
   "outputs": [],
   "source": [
    "comando = (\"  SELECT * FROM CLIENTE;\")"
   ]
  },
  {
   "cell_type": "code",
   "execution_count": 6,
   "id": "9373a119",
   "metadata": {},
   "outputs": [
    {
     "name": "stdout",
     "output_type": "stream",
     "text": [
      "('ALFKI', 'Alfreds Futterkiste', 'Maria Anders', 'Sales Representative', 'Obere Str. 57', 'Berlin', None, '12209', 'Germany', '030-0074321', '030-0076545')\n"
     ]
    }
   ],
   "source": [
    "cursor.execute(comando)\n",
    "row = cursor.fetchone()\n",
    "if row:\n",
    "    print(row)"
   ]
  },
  {
   "cell_type": "code",
   "execution_count": null,
   "id": "ffdaf64c",
   "metadata": {},
   "outputs": [],
   "source": []
  }
 ],
 "metadata": {
  "kernelspec": {
   "display_name": "Python 3 (ipykernel)",
   "language": "python",
   "name": "python3"
  },
  "language_info": {
   "codemirror_mode": {
    "name": "ipython",
    "version": 3
   },
   "file_extension": ".py",
   "mimetype": "text/x-python",
   "name": "python",
   "nbconvert_exporter": "python",
   "pygments_lexer": "ipython3",
   "version": "3.9.12"
  }
 },
 "nbformat": 4,
 "nbformat_minor": 5
}
